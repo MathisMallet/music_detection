{
 "cells": [
  {
   "cell_type": "markdown",
   "id": "ea6e5044",
   "metadata": {},
   "source": [
    "# This is the dev workbook for music detection"
   ]
  },
  {
   "cell_type": "markdown",
   "id": "669e7713",
   "metadata": {},
   "source": [
    "## RUN ONLY ONCE"
   ]
  },
  {
   "cell_type": "code",
   "execution_count": 2,
   "id": "808192bc",
   "metadata": {},
   "outputs": [
    {
     "name": "stdout",
     "output_type": "stream",
     "text": [
      "Using pip 25.1.1 from c:\\Users\\mathi\\repos\\music_detection\\.venv\\Lib\\site-packages\\pip (python 3.12)\n",
      "Requirement already satisfied: torch in c:\\users\\mathi\\repos\\music_detection\\.venv\\lib\\site-packages (from -r ../requirements.txt (line 1)) (2.8.0)\n",
      "Requirement already satisfied: torchaudio in c:\\users\\mathi\\repos\\music_detection\\.venv\\lib\\site-packages (from -r ../requirements.txt (line 2)) (2.8.0)\n",
      "Requirement already satisfied: librosa in c:\\users\\mathi\\repos\\music_detection\\.venv\\lib\\site-packages (from -r ../requirements.txt (line 3)) (0.11.0)\n",
      "Requirement already satisfied: faiss-cpu in c:\\users\\mathi\\repos\\music_detection\\.venv\\lib\\site-packages (from -r ../requirements.txt (line 4)) (1.12.0)\n",
      "Requirement already satisfied: gradio in c:\\users\\mathi\\repos\\music_detection\\.venv\\lib\\site-packages (from -r ../requirements.txt (line 5)) (5.42.0)\n",
      "Requirement already satisfied: filelock in c:\\users\\mathi\\repos\\music_detection\\.venv\\lib\\site-packages (from torch->-r ../requirements.txt (line 1)) (3.19.1)\n",
      "Requirement already satisfied: typing-extensions>=4.10.0 in c:\\users\\mathi\\repos\\music_detection\\.venv\\lib\\site-packages (from torch->-r ../requirements.txt (line 1)) (4.14.1)\n",
      "Requirement already satisfied: sympy>=1.13.3 in c:\\users\\mathi\\repos\\music_detection\\.venv\\lib\\site-packages (from torch->-r ../requirements.txt (line 1)) (1.14.0)\n",
      "Requirement already satisfied: networkx in c:\\users\\mathi\\repos\\music_detection\\.venv\\lib\\site-packages (from torch->-r ../requirements.txt (line 1)) (3.5)\n",
      "Requirement already satisfied: jinja2 in c:\\users\\mathi\\repos\\music_detection\\.venv\\lib\\site-packages (from torch->-r ../requirements.txt (line 1)) (3.1.6)\n",
      "Requirement already satisfied: fsspec in c:\\users\\mathi\\repos\\music_detection\\.venv\\lib\\site-packages (from torch->-r ../requirements.txt (line 1)) (2025.7.0)\n",
      "Requirement already satisfied: setuptools in c:\\users\\mathi\\repos\\music_detection\\.venv\\lib\\site-packages (from torch->-r ../requirements.txt (line 1)) (80.9.0)\n",
      "Requirement already satisfied: audioread>=2.1.9 in c:\\users\\mathi\\repos\\music_detection\\.venv\\lib\\site-packages (from librosa->-r ../requirements.txt (line 3)) (3.0.1)\n",
      "Requirement already satisfied: numba>=0.51.0 in c:\\users\\mathi\\repos\\music_detection\\.venv\\lib\\site-packages (from librosa->-r ../requirements.txt (line 3)) (0.61.2)\n",
      "Requirement already satisfied: numpy>=1.22.3 in c:\\users\\mathi\\repos\\music_detection\\.venv\\lib\\site-packages (from librosa->-r ../requirements.txt (line 3)) (2.2.6)\n",
      "Requirement already satisfied: scipy>=1.6.0 in c:\\users\\mathi\\repos\\music_detection\\.venv\\lib\\site-packages (from librosa->-r ../requirements.txt (line 3)) (1.16.1)\n",
      "Requirement already satisfied: scikit-learn>=1.1.0 in c:\\users\\mathi\\repos\\music_detection\\.venv\\lib\\site-packages (from librosa->-r ../requirements.txt (line 3)) (1.7.1)\n",
      "Requirement already satisfied: joblib>=1.0 in c:\\users\\mathi\\repos\\music_detection\\.venv\\lib\\site-packages (from librosa->-r ../requirements.txt (line 3)) (1.5.1)\n",
      "Requirement already satisfied: decorator>=4.3.0 in c:\\users\\mathi\\repos\\music_detection\\.venv\\lib\\site-packages (from librosa->-r ../requirements.txt (line 3)) (5.2.1)\n",
      "Requirement already satisfied: soundfile>=0.12.1 in c:\\users\\mathi\\repos\\music_detection\\.venv\\lib\\site-packages (from librosa->-r ../requirements.txt (line 3)) (0.13.1)\n",
      "Requirement already satisfied: pooch>=1.1 in c:\\users\\mathi\\repos\\music_detection\\.venv\\lib\\site-packages (from librosa->-r ../requirements.txt (line 3)) (1.8.2)\n",
      "Requirement already satisfied: soxr>=0.3.2 in c:\\users\\mathi\\repos\\music_detection\\.venv\\lib\\site-packages (from librosa->-r ../requirements.txt (line 3)) (0.5.0.post1)\n",
      "Requirement already satisfied: lazy_loader>=0.1 in c:\\users\\mathi\\repos\\music_detection\\.venv\\lib\\site-packages (from librosa->-r ../requirements.txt (line 3)) (0.4)\n",
      "Requirement already satisfied: msgpack>=1.0 in c:\\users\\mathi\\repos\\music_detection\\.venv\\lib\\site-packages (from librosa->-r ../requirements.txt (line 3)) (1.1.1)\n",
      "Requirement already satisfied: packaging in c:\\users\\mathi\\repos\\music_detection\\.venv\\lib\\site-packages (from faiss-cpu->-r ../requirements.txt (line 4)) (25.0)\n",
      "Requirement already satisfied: aiofiles<25.0,>=22.0 in c:\\users\\mathi\\repos\\music_detection\\.venv\\lib\\site-packages (from gradio->-r ../requirements.txt (line 5)) (24.1.0)\n",
      "Requirement already satisfied: anyio<5.0,>=3.0 in c:\\users\\mathi\\repos\\music_detection\\.venv\\lib\\site-packages (from gradio->-r ../requirements.txt (line 5)) (4.10.0)\n",
      "Requirement already satisfied: brotli>=1.1.0 in c:\\users\\mathi\\repos\\music_detection\\.venv\\lib\\site-packages (from gradio->-r ../requirements.txt (line 5)) (1.1.0)\n",
      "Requirement already satisfied: fastapi<1.0,>=0.115.2 in c:\\users\\mathi\\repos\\music_detection\\.venv\\lib\\site-packages (from gradio->-r ../requirements.txt (line 5)) (0.116.1)\n",
      "Requirement already satisfied: ffmpy in c:\\users\\mathi\\repos\\music_detection\\.venv\\lib\\site-packages (from gradio->-r ../requirements.txt (line 5)) (0.6.1)\n",
      "Requirement already satisfied: gradio-client==1.11.1 in c:\\users\\mathi\\repos\\music_detection\\.venv\\lib\\site-packages (from gradio->-r ../requirements.txt (line 5)) (1.11.1)\n",
      "Requirement already satisfied: groovy~=0.1 in c:\\users\\mathi\\repos\\music_detection\\.venv\\lib\\site-packages (from gradio->-r ../requirements.txt (line 5)) (0.1.2)\n",
      "Requirement already satisfied: httpx<1.0,>=0.24.1 in c:\\users\\mathi\\repos\\music_detection\\.venv\\lib\\site-packages (from gradio->-r ../requirements.txt (line 5)) (0.28.1)\n",
      "Requirement already satisfied: huggingface-hub<1.0,>=0.33.5 in c:\\users\\mathi\\repos\\music_detection\\.venv\\lib\\site-packages (from gradio->-r ../requirements.txt (line 5)) (0.34.4)\n",
      "Requirement already satisfied: markupsafe<4.0,>=2.0 in c:\\users\\mathi\\repos\\music_detection\\.venv\\lib\\site-packages (from gradio->-r ../requirements.txt (line 5)) (3.0.2)\n",
      "Requirement already satisfied: orjson~=3.0 in c:\\users\\mathi\\repos\\music_detection\\.venv\\lib\\site-packages (from gradio->-r ../requirements.txt (line 5)) (3.11.2)\n",
      "Requirement already satisfied: pandas<3.0,>=1.0 in c:\\users\\mathi\\repos\\music_detection\\.venv\\lib\\site-packages (from gradio->-r ../requirements.txt (line 5)) (2.3.1)\n",
      "Requirement already satisfied: pillow<12.0,>=8.0 in c:\\users\\mathi\\repos\\music_detection\\.venv\\lib\\site-packages (from gradio->-r ../requirements.txt (line 5)) (11.3.0)\n",
      "Requirement already satisfied: pydantic<2.12,>=2.0 in c:\\users\\mathi\\repos\\music_detection\\.venv\\lib\\site-packages (from gradio->-r ../requirements.txt (line 5)) (2.11.7)\n",
      "Requirement already satisfied: pydub in c:\\users\\mathi\\repos\\music_detection\\.venv\\lib\\site-packages (from gradio->-r ../requirements.txt (line 5)) (0.25.1)\n",
      "Requirement already satisfied: python-multipart>=0.0.18 in c:\\users\\mathi\\repos\\music_detection\\.venv\\lib\\site-packages (from gradio->-r ../requirements.txt (line 5)) (0.0.20)\n",
      "Requirement already satisfied: pyyaml<7.0,>=5.0 in c:\\users\\mathi\\repos\\music_detection\\.venv\\lib\\site-packages (from gradio->-r ../requirements.txt (line 5)) (6.0.2)\n",
      "Requirement already satisfied: ruff>=0.9.3 in c:\\users\\mathi\\repos\\music_detection\\.venv\\lib\\site-packages (from gradio->-r ../requirements.txt (line 5)) (0.12.9)\n",
      "Requirement already satisfied: safehttpx<0.2.0,>=0.1.6 in c:\\users\\mathi\\repos\\music_detection\\.venv\\lib\\site-packages (from gradio->-r ../requirements.txt (line 5)) (0.1.6)\n",
      "Requirement already satisfied: semantic-version~=2.0 in c:\\users\\mathi\\repos\\music_detection\\.venv\\lib\\site-packages (from gradio->-r ../requirements.txt (line 5)) (2.10.0)\n",
      "Requirement already satisfied: starlette<1.0,>=0.40.0 in c:\\users\\mathi\\repos\\music_detection\\.venv\\lib\\site-packages (from gradio->-r ../requirements.txt (line 5)) (0.47.2)\n",
      "Requirement already satisfied: tomlkit<0.14.0,>=0.12.0 in c:\\users\\mathi\\repos\\music_detection\\.venv\\lib\\site-packages (from gradio->-r ../requirements.txt (line 5)) (0.13.3)\n",
      "Requirement already satisfied: typer<1.0,>=0.12 in c:\\users\\mathi\\repos\\music_detection\\.venv\\lib\\site-packages (from gradio->-r ../requirements.txt (line 5)) (0.16.0)\n",
      "Requirement already satisfied: uvicorn>=0.14.0 in c:\\users\\mathi\\repos\\music_detection\\.venv\\lib\\site-packages (from gradio->-r ../requirements.txt (line 5)) (0.35.0)\n",
      "Requirement already satisfied: websockets<16.0,>=10.0 in c:\\users\\mathi\\repos\\music_detection\\.venv\\lib\\site-packages (from gradio-client==1.11.1->gradio->-r ../requirements.txt (line 5)) (15.0.1)\n",
      "Requirement already satisfied: idna>=2.8 in c:\\users\\mathi\\repos\\music_detection\\.venv\\lib\\site-packages (from anyio<5.0,>=3.0->gradio->-r ../requirements.txt (line 5)) (3.10)\n",
      "Requirement already satisfied: sniffio>=1.1 in c:\\users\\mathi\\repos\\music_detection\\.venv\\lib\\site-packages (from anyio<5.0,>=3.0->gradio->-r ../requirements.txt (line 5)) (1.3.1)\n",
      "Requirement already satisfied: certifi in c:\\users\\mathi\\repos\\music_detection\\.venv\\lib\\site-packages (from httpx<1.0,>=0.24.1->gradio->-r ../requirements.txt (line 5)) (2025.8.3)\n",
      "Requirement already satisfied: httpcore==1.* in c:\\users\\mathi\\repos\\music_detection\\.venv\\lib\\site-packages (from httpx<1.0,>=0.24.1->gradio->-r ../requirements.txt (line 5)) (1.0.9)\n",
      "Requirement already satisfied: h11>=0.16 in c:\\users\\mathi\\repos\\music_detection\\.venv\\lib\\site-packages (from httpcore==1.*->httpx<1.0,>=0.24.1->gradio->-r ../requirements.txt (line 5)) (0.16.0)\n",
      "Requirement already satisfied: requests in c:\\users\\mathi\\repos\\music_detection\\.venv\\lib\\site-packages (from huggingface-hub<1.0,>=0.33.5->gradio->-r ../requirements.txt (line 5)) (2.32.4)\n",
      "Requirement already satisfied: tqdm>=4.42.1 in c:\\users\\mathi\\repos\\music_detection\\.venv\\lib\\site-packages (from huggingface-hub<1.0,>=0.33.5->gradio->-r ../requirements.txt (line 5)) (4.67.1)\n",
      "Requirement already satisfied: python-dateutil>=2.8.2 in c:\\users\\mathi\\repos\\music_detection\\.venv\\lib\\site-packages (from pandas<3.0,>=1.0->gradio->-r ../requirements.txt (line 5)) (2.9.0.post0)\n",
      "Requirement already satisfied: pytz>=2020.1 in c:\\users\\mathi\\repos\\music_detection\\.venv\\lib\\site-packages (from pandas<3.0,>=1.0->gradio->-r ../requirements.txt (line 5)) (2025.2)\n",
      "Requirement already satisfied: tzdata>=2022.7 in c:\\users\\mathi\\repos\\music_detection\\.venv\\lib\\site-packages (from pandas<3.0,>=1.0->gradio->-r ../requirements.txt (line 5)) (2025.2)\n",
      "Requirement already satisfied: annotated-types>=0.6.0 in c:\\users\\mathi\\repos\\music_detection\\.venv\\lib\\site-packages (from pydantic<2.12,>=2.0->gradio->-r ../requirements.txt (line 5)) (0.7.0)\n",
      "Requirement already satisfied: pydantic-core==2.33.2 in c:\\users\\mathi\\repos\\music_detection\\.venv\\lib\\site-packages (from pydantic<2.12,>=2.0->gradio->-r ../requirements.txt (line 5)) (2.33.2)\n",
      "Requirement already satisfied: typing-inspection>=0.4.0 in c:\\users\\mathi\\repos\\music_detection\\.venv\\lib\\site-packages (from pydantic<2.12,>=2.0->gradio->-r ../requirements.txt (line 5)) (0.4.1)\n",
      "Requirement already satisfied: click>=8.0.0 in c:\\users\\mathi\\repos\\music_detection\\.venv\\lib\\site-packages (from typer<1.0,>=0.12->gradio->-r ../requirements.txt (line 5)) (8.2.1)\n",
      "Requirement already satisfied: shellingham>=1.3.0 in c:\\users\\mathi\\repos\\music_detection\\.venv\\lib\\site-packages (from typer<1.0,>=0.12->gradio->-r ../requirements.txt (line 5)) (1.5.4)\n",
      "Requirement already satisfied: rich>=10.11.0 in c:\\users\\mathi\\repos\\music_detection\\.venv\\lib\\site-packages (from typer<1.0,>=0.12->gradio->-r ../requirements.txt (line 5)) (14.1.0)\n",
      "Requirement already satisfied: colorama in c:\\users\\mathi\\repos\\music_detection\\.venv\\lib\\site-packages (from click>=8.0.0->typer<1.0,>=0.12->gradio->-r ../requirements.txt (line 5)) (0.4.6)\n",
      "Requirement already satisfied: llvmlite<0.45,>=0.44.0dev0 in c:\\users\\mathi\\repos\\music_detection\\.venv\\lib\\site-packages (from numba>=0.51.0->librosa->-r ../requirements.txt (line 3)) (0.44.0)\n",
      "Requirement already satisfied: platformdirs>=2.5.0 in c:\\users\\mathi\\repos\\music_detection\\.venv\\lib\\site-packages (from pooch>=1.1->librosa->-r ../requirements.txt (line 3)) (4.3.8)\n",
      "Requirement already satisfied: six>=1.5 in c:\\users\\mathi\\repos\\music_detection\\.venv\\lib\\site-packages (from python-dateutil>=2.8.2->pandas<3.0,>=1.0->gradio->-r ../requirements.txt (line 5)) (1.17.0)\n",
      "Requirement already satisfied: charset_normalizer<4,>=2 in c:\\users\\mathi\\repos\\music_detection\\.venv\\lib\\site-packages (from requests->huggingface-hub<1.0,>=0.33.5->gradio->-r ../requirements.txt (line 5)) (3.4.3)\n",
      "Requirement already satisfied: urllib3<3,>=1.21.1 in c:\\users\\mathi\\repos\\music_detection\\.venv\\lib\\site-packages (from requests->huggingface-hub<1.0,>=0.33.5->gradio->-r ../requirements.txt (line 5)) (2.5.0)\n",
      "Requirement already satisfied: markdown-it-py>=2.2.0 in c:\\users\\mathi\\repos\\music_detection\\.venv\\lib\\site-packages (from rich>=10.11.0->typer<1.0,>=0.12->gradio->-r ../requirements.txt (line 5)) (4.0.0)\n",
      "Requirement already satisfied: pygments<3.0.0,>=2.13.0 in c:\\users\\mathi\\repos\\music_detection\\.venv\\lib\\site-packages (from rich>=10.11.0->typer<1.0,>=0.12->gradio->-r ../requirements.txt (line 5)) (2.19.2)\n",
      "Requirement already satisfied: mdurl~=0.1 in c:\\users\\mathi\\repos\\music_detection\\.venv\\lib\\site-packages (from markdown-it-py>=2.2.0->rich>=10.11.0->typer<1.0,>=0.12->gradio->-r ../requirements.txt (line 5)) (0.1.2)\n",
      "Requirement already satisfied: threadpoolctl>=3.1.0 in c:\\users\\mathi\\repos\\music_detection\\.venv\\lib\\site-packages (from scikit-learn>=1.1.0->librosa->-r ../requirements.txt (line 3)) (3.6.0)\n",
      "Requirement already satisfied: cffi>=1.0 in c:\\users\\mathi\\repos\\music_detection\\.venv\\lib\\site-packages (from soundfile>=0.12.1->librosa->-r ../requirements.txt (line 3)) (1.17.1)\n",
      "Requirement already satisfied: pycparser in c:\\users\\mathi\\repos\\music_detection\\.venv\\lib\\site-packages (from cffi>=1.0->soundfile>=0.12.1->librosa->-r ../requirements.txt (line 3)) (2.22)\n",
      "Requirement already satisfied: mpmath<1.4,>=1.1.0 in c:\\users\\mathi\\repos\\music_detection\\.venv\\lib\\site-packages (from sympy>=1.13.3->torch->-r ../requirements.txt (line 1)) (1.3.0)\n"
     ]
    },
    {
     "name": "stderr",
     "output_type": "stream",
     "text": [
      "\n",
      "[notice] A new release of pip is available: 25.1.1 -> 25.2\n",
      "[notice] To update, run: python.exe -m pip install --upgrade pip\n"
     ]
    }
   ],
   "source": [
    "!pip install -r ../requirements.txt -v"
   ]
  },
  {
   "cell_type": "markdown",
   "id": "bfc1e191",
   "metadata": {},
   "source": [
    "## Dataset"
   ]
  },
  {
   "cell_type": "markdown",
   "id": "fae6cd9e",
   "metadata": {},
   "source": [
    "### Imports"
   ]
  },
  {
   "cell_type": "code",
   "execution_count": 8,
   "id": "e10f9d2d",
   "metadata": {},
   "outputs": [],
   "source": [
    "import torch\n",
    "from torch.utils.data import Dataset\n",
    "import torchaudio\n",
    "from pathlib import Path\n",
    "from torch.utils.data import DataLoader\n",
    "import os\n",
    "import time"
   ]
  },
  {
   "cell_type": "markdown",
   "id": "5cbbf6de",
   "metadata": {},
   "source": [
    "### AudioDataset class"
   ]
  },
  {
   "cell_type": "code",
   "execution_count": 13,
   "id": "96f984ac",
   "metadata": {},
   "outputs": [],
   "source": [
    "class AudioDataset(Dataset):\n",
    "    def __init__(self, folder_path, target_sr=22050, normalize=True):\n",
    "        self.folder_path = folder_path\n",
    "        self.target_sr = target_sr\n",
    "        self.file_paths = self.get_all_filepaths()\n",
    "        self.normalize = normalize\n",
    "\n",
    "    def __len__(self):\n",
    "        return len(self.file_paths)\n",
    "\n",
    "    def __getitem__(self, idx):\n",
    "        init_time = time.time()\n",
    "        print(\"loading file n°\", idx)\n",
    "        file_path = self.file_paths[idx]\n",
    "        wav, sr = torchaudio.load(file_path)  # wav shape: (channels, time)\n",
    "        wav = torch.mean(wav, dim=0)  # mono\n",
    "        if sr != self.target_sr:\n",
    "            wav = torchaudio.transforms.Resample(orig_freq=sr, new_freq=self.target_sr)(wav)\n",
    "            sr = self.target_sr\n",
    "        print(f\"file loaded at sr={sr} Hz in\", time.time() - init_time, \"seconds\")\n",
    "        return wav, sr, os.path.basename(file_path)\n",
    "\n",
    "    def get_all_filepaths(self):\n",
    "        folder = Path(self.folder_path)\n",
    "        file_paths = [str(p) for p in folder.rglob(\"*\")]\n",
    "        return file_paths\n",
    "\n",
    "    def get_time_length(self, wav):\n",
    "        return len(wav[0]) / self.target_sr"
   ]
  },
  {
   "cell_type": "markdown",
   "id": "9079f448",
   "metadata": {},
   "source": [
    "### test dataset"
   ]
  },
  {
   "cell_type": "code",
   "execution_count": 16,
   "id": "8a4b3d94",
   "metadata": {},
   "outputs": [
    {
     "name": "stdout",
     "output_type": "stream",
     "text": [
      "loading file n° 0\n"
     ]
    },
    {
     "name": "stderr",
     "output_type": "stream",
     "text": [
      "c:\\Users\\mathi\\repos\\music_detection\\.venv\\Lib\\site-packages\\torchaudio\\_backend\\utils.py:213: UserWarning: In 2.9, this function's implementation will be changed to use torchaudio.load_with_torchcodec` under the hood. Some parameters like ``normalize``, ``format``, ``buffer_size``, and ``backend`` will be ignored. We recommend that you port your code to rely directly on TorchCodec's decoder instead: https://docs.pytorch.org/torchcodec/stable/generated/torchcodec.decoders.AudioDecoder.html#torchcodec.decoders.AudioDecoder.\n",
      "  warnings.warn(\n"
     ]
    },
    {
     "name": "stdout",
     "output_type": "stream",
     "text": [
      "file loaded at sr=22050 Hz in 0.27986860275268555 seconds\n",
      "loading file n° 1\n",
      "file loaded at sr=22050 Hz in 0.2839014530181885 seconds\n",
      "tensor([ 1.9357e-12,  2.1351e-11,  2.7949e-11,  ..., -1.1489e-09,\n",
      "        -1.3916e-09, -1.1857e-09]) 3993984\n",
      "22050\n",
      "20140907_56110_kson_kma_14.mp3\n",
      "tensor([ 1.4679e-12, -2.6406e-12, -1.1391e-11,  ...,  0.0000e+00,\n",
      "         0.0000e+00,  0.0000e+00]) 3773952\n",
      "22050\n",
      "20140907_56110_kson_bma_09.mp3\n"
     ]
    }
   ],
   "source": [
    "dataset = AudioDataset(folder_path = \"../../../Music/bi_test\")\n",
    "\n",
    "mus1 = dataset[0]\n",
    "mus2 = dataset[1]\n",
    "print(mus2[0], len(mus2[0]))\n",
    "print(mus2[1])\n",
    "print(mus2[2])\n",
    "print(mus1[0], len(mus1[0]))\n",
    "print(mus1[1])\n",
    "print(mus1[2])"
   ]
  },
  {
   "cell_type": "markdown",
   "id": "26678c5c",
   "metadata": {},
   "source": [
    "## Augmenter"
   ]
  },
  {
   "cell_type": "code",
   "execution_count": null,
   "id": "8debd809",
   "metadata": {},
   "outputs": [
    {
     "ename": "ModuleNotFoundError",
     "evalue": "No module named 'src'",
     "output_type": "error",
     "traceback": [
      "\u001b[31m---------------------------------------------------------------------------\u001b[39m",
      "\u001b[31mModuleNotFoundError\u001b[39m                       Traceback (most recent call last)",
      "\u001b[36mCell\u001b[39m\u001b[36m \u001b[39m\u001b[32mIn[17]\u001b[39m\u001b[32m, line 6\u001b[39m\n\u001b[32m      4\u001b[39m \u001b[38;5;28;01mimport\u001b[39;00m\u001b[38;5;250m \u001b[39m\u001b[34;01mrandom\u001b[39;00m\n\u001b[32m      5\u001b[39m \u001b[38;5;28;01mimport\u001b[39;00m\u001b[38;5;250m \u001b[39m\u001b[34;01mtorchaudio\u001b[39;00m\n\u001b[32m----> \u001b[39m\u001b[32m6\u001b[39m \u001b[38;5;28;01mfrom\u001b[39;00m\u001b[38;5;250m \u001b[39m\u001b[34;01msrc\u001b[39;00m\u001b[34;01m.\u001b[39;00m\u001b[34;01mdataset\u001b[39;00m\u001b[38;5;250m \u001b[39m\u001b[38;5;28;01mimport\u001b[39;00m AudioDataset\n\u001b[32m      7\u001b[39m \u001b[38;5;28;01mfrom\u001b[39;00m\u001b[38;5;250m \u001b[39m\u001b[34;01msrc\u001b[39;00m\u001b[34;01m.\u001b[39;00m\u001b[34;01mutils\u001b[39;00m\u001b[38;5;250m \u001b[39m\u001b[38;5;28;01mimport\u001b[39;00m save_wav\n",
      "\u001b[31mModuleNotFoundError\u001b[39m: No module named 'src'"
     ]
    },
    {
     "ename": "",
     "evalue": "",
     "output_type": "error",
     "traceback": [
      "\u001b[1;31mThe Kernel crashed while executing code in the current cell or a previous cell. \n",
      "\u001b[1;31mPlease review the code in the cell(s) to identify a possible cause of the failure. \n",
      "\u001b[1;31mClick <a href='https://aka.ms/vscodeJupyterKernelCrash'>here</a> for more info. \n",
      "\u001b[1;31mView Jupyter <a href='command:jupyter.viewOutput'>log</a> for further details."
     ]
    }
   ],
   "source": [
    "import numpy as np\n",
    "import librosa\n",
    "import torch\n",
    "import random\n",
    "import torchaudio\n",
    "from src.dataset import AudioDataset\n",
    "from src.utils import save_wav"
   ]
  },
  {
   "cell_type": "markdown",
   "id": "c909d557",
   "metadata": {},
   "source": []
  }
 ],
 "metadata": {
  "kernelspec": {
   "display_name": ".venv",
   "language": "python",
   "name": "python3"
  },
  "language_info": {
   "codemirror_mode": {
    "name": "ipython",
    "version": 3
   },
   "file_extension": ".py",
   "mimetype": "text/x-python",
   "name": "python",
   "nbconvert_exporter": "python",
   "pygments_lexer": "ipython3",
   "version": "3.12.10"
  }
 },
 "nbformat": 4,
 "nbformat_minor": 5
}
